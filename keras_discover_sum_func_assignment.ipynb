{
 "cells": [
  {
   "cell_type": "markdown",
   "metadata": {},
   "source": [
    "# Using ANNs to discover the sum (+) function (using classifier)\n",
    "Can Dense networks be used to discover a simple operation like + (without using a regression)?\n",
    "Questions to answer:\n",
    "- How much data is required?\n",
    "- How many layers?\n",
    "- How many neurons per layer? \n",
    "- Hyper param optimization (batch size, learning rate, optimizer, etc)"
   ]
  },
  {
   "cell_type": "code",
   "execution_count": 1,
   "metadata": {
    "collapsed": false
   },
   "outputs": [
    {
     "name": "stderr",
     "output_type": "stream",
     "text": [
      "Using TensorFlow backend.\n"
     ]
    }
   ],
   "source": [
    "import pandas as pd\n",
    "import numpy as np\n",
    "import scipy as scp\n",
    "import tensorflow as tf\n",
    "import keras\n",
    "from keras.models import Model, Sequential\n",
    "from keras.layers import *\n",
    "from keras.models import load_model\n",
    "from keras.optimizers import Adam\n",
    "import keras.backend as K\n",
    "import matplotlib.pyplot as plt\n",
    "import seaborn as sns\n",
    "import nltk\n",
    "import string\n",
    "import re\n",
    "import random\n",
    "import sklearn as sk\n",
    "from sklearn.model_selection import train_test_split\n",
    "%matplotlib inline"
   ]
  },
  {
   "cell_type": "markdown",
   "metadata": {},
   "source": [
    "## construct the different datasets"
   ]
  },
  {
   "cell_type": "code",
   "execution_count": 2,
   "metadata": {
    "collapsed": false
   },
   "outputs": [],
   "source": [
    "def construct_my_dataset(size=10000, seed = 54321, remove_number=None):\n",
    "    random.seed(seed)\n",
    "    x1 = np.array([random.randint(0,100) for i in range(size)])\n",
    "    x2 = np.array([random.randint(0,100) for i in range(size)])\n",
    "    y = x1 + x2\n",
    "    df = pd.DataFrame({'x1':x1,'x2':x2,'y':y})\n",
    "    if remove_number:\n",
    "        df = df[((df.x1!=remove_number) & (df.x2!=remove_number))].copy()\n",
    "    return df\n"
   ]
  },
  {
   "cell_type": "code",
   "execution_count": 3,
   "metadata": {
    "collapsed": false
   },
   "outputs": [],
   "source": [
    "df_100k = construct_my_dataset(size=int(1e5), seed=12345)\n",
    "df_1m = construct_my_dataset(size=int(1e6), seed=54123)\n",
    "df_10m = construct_my_dataset(size=int(1e7), seed=54123)"
   ]
  },
  {
   "cell_type": "code",
   "execution_count": 4,
   "metadata": {
    "collapsed": false
   },
   "outputs": [
    {
     "name": "stdout",
     "output_type": "stream",
     "text": [
      "(100000, 3)\n",
      "(1000000, 3)\n",
      "(10000000, 3)\n"
     ]
    }
   ],
   "source": [
    "print (df_100k.shape)\n",
    "print (df_1m.shape)\n",
    "print (df_10m.shape)"
   ]
  },
  {
   "cell_type": "markdown",
   "metadata": {},
   "source": [
    "## Train the NN classifier"
   ]
  },
  {
   "cell_type": "code",
   "execution_count": 5,
   "metadata": {
    "collapsed": false
   },
   "outputs": [],
   "source": [
    "def run_nn_classifier(dataset, test_size=0.2\\\n",
    "                      , lr = 0.1, training_epochs = 10, batch_size=100 \\\n",
    "                      , hidden_layers = [4,4]\\\n",
    "                      , lossf = 'categorical_crossentropy', optimizer = 'SGD'\\\n",
    "                      , metrics_to_report = ['accuracy']\\\n",
    "                      , verbose =1\n",
    "                      , normalize = True\n",
    "                     , remove_num_from_training = None):\n",
    "    X_train, X_test, y_train, y_test = train_test_split(dataset[['x1','x2']], dataset['y'], test_size =test_size)\n",
    "    \n",
    "    # Remove certain number from the training set to make it harder\n",
    "    if remove_num_from_training:\n",
    "        ids_to_del = X_train[((X_train.x1== remove_num_from_training) + (X_train.x2==remove_num_from_training))].index.tolist()\n",
    "        print ('Number of records deleted from training set: %d' % len(ids_to_del))\n",
    "        y_train.drop(ids_to_del, inplace=True, axis=0)\n",
    "        X_train.drop(ids_to_del, inplace=True, axis=0)\n",
    "    \n",
    "    # convert class vectors to binary One Hot Encoded\n",
    "    n_classes = dataset['y'].unique().shape[0]\n",
    "    y_train = keras.utils.to_categorical(y_train, n_classes)\n",
    "    y_test = keras.utils.to_categorical(y_test, n_classes)\n",
    "    \n",
    "    # Normalize the data\n",
    "    X_train = np.array(X_train)/100\n",
    "    X_test = np.array(X_test)/100\n",
    "    # Network Parameters\n",
    "    n_input = 2\n",
    "    \n",
    "    # Build layers of NN network\n",
    "    Inp = Input(shape=(n_input,))\n",
    "    x = Inp\n",
    "    for i, hidden_layer_size in enumerate(hidden_layers):\n",
    "        x = Dense(hidden_layer_size, activation='relu', name = \"Dense_{0}\".format(i))(x)\n",
    "    #output layer specified separately    \n",
    "    output = Dense(n_classes, activation='softmax', name = \"Outputlayer\")(x)\n",
    "    model = Model(Inp, output)\n",
    "    if verbose:\n",
    "        print(model.summary())\n",
    "    \n",
    "    model.compile(loss=lossf,\n",
    "              optimizer=optimizer,\n",
    "              metrics=metrics_to_report)\n",
    "    \n",
    "    K.set_value(model.optimizer.lr, lr)\n",
    "    \n",
    "    history = model.fit(X_train, y_train,\n",
    "                    batch_size=batch_size,\n",
    "                    epochs=training_epochs,\n",
    "                    verbose=verbose, # This is for what we want it to display out as it trains \n",
    "                    validation_data=(X_test, y_test))\n",
    "    \n",
    "    return history, model\n",
    "\n",
    "def plot_train(hist):\n",
    "    h = hist.history\n",
    "    if 'acc' in h:\n",
    "        meas='acc'\n",
    "        loc='lower right'\n",
    "    else:\n",
    "        meas='loss'\n",
    "        loc='upper right'\n",
    "    plt.plot(hist.history[meas])\n",
    "    plt.plot(hist.history['val_'+meas])\n",
    "    plt.title('model '+meas)\n",
    "    plt.ylabel(meas)\n",
    "    plt.xlabel('epoch')\n",
    "    plt.legend(['train', 'validation'], loc=loc)\n",
    "\n",
    "def get_top_n_predict(mymodel, test_data, top_n = 10):\n",
    "    print ('*'*20)\n",
    "    print ('%s => sum = %d' % (str(test_data*100), test_data.sum()*100))\n",
    "    print ('*'*20)\n",
    "    res = mymodel.predict(test_data)[0]\n",
    "    zips = zip(range(0,201), res)\n",
    "    for i in sorted(zips, key=lambda x: x[1], reverse=True)[:top_n]:\n",
    "        print(i)\n",
    "    print('*'*20)"
   ]
  },
  {
   "cell_type": "code",
   "execution_count": 62,
   "metadata": {
    "collapsed": false,
    "scrolled": false
   },
   "outputs": [
    {
     "name": "stdout",
     "output_type": "stream",
     "text": [
      "_________________________________________________________________\n",
      "Layer (type)                 Output Shape              Param #   \n",
      "=================================================================\n",
      "input_3 (InputLayer)         (None, 2)                 0         \n",
      "_________________________________________________________________\n",
      "Dense_0 (Dense)              (None, 100)               300       \n",
      "_________________________________________________________________\n",
      "Dense_1 (Dense)              (None, 50)                5050      \n",
      "_________________________________________________________________\n",
      "Dense_2 (Dense)              (None, 20)                1020      \n",
      "_________________________________________________________________\n",
      "Outputlayer (Dense)          (None, 201)               4221      \n",
      "=================================================================\n",
      "Total params: 10,591\n",
      "Trainable params: 10,591\n",
      "Non-trainable params: 0\n",
      "_________________________________________________________________\n",
      "None\n",
      "Train on 80000 samples, validate on 20000 samples\n",
      "Epoch 1/10\n",
      "80000/80000 [==============================] - 4s - loss: 5.1883 - acc: 0.0084 - val_loss: 5.0075 - val_acc: 0.0128\n",
      "Epoch 2/10\n",
      "80000/80000 [==============================] - 4s - loss: 4.3614 - acc: 0.0343 - val_loss: 4.0381 - val_acc: 0.0341\n",
      "Epoch 3/10\n",
      "80000/80000 [==============================] - 4s - loss: 3.7515 - acc: 0.0464 - val_loss: 3.8249 - val_acc: 0.0145\n",
      "Epoch 4/10\n",
      "80000/80000 [==============================] - 4s - loss: 3.4574 - acc: 0.0584 - val_loss: 3.3245 - val_acc: 0.0616\n",
      "Epoch 5/10\n",
      "80000/80000 [==============================] - 4s - loss: 3.2803 - acc: 0.0681 - val_loss: 3.4669 - val_acc: 0.0340\n",
      "Epoch 6/10\n",
      "80000/80000 [==============================] - 4s - loss: 3.1959 - acc: 0.0708 - val_loss: 3.0365 - val_acc: 0.0765\n",
      "Epoch 7/10\n",
      "80000/80000 [==============================] - 4s - loss: 3.1049 - acc: 0.0767 - val_loss: 2.8702 - val_acc: 0.0805\n",
      "Epoch 8/10\n",
      "80000/80000 [==============================] - 4s - loss: 2.9963 - acc: 0.0833 - val_loss: 3.1785 - val_acc: 0.0468\n",
      "Epoch 9/10\n",
      "80000/80000 [==============================] - 4s - loss: 2.9044 - acc: 0.0917 - val_loss: 2.6709 - val_acc: 0.0937\n",
      "Epoch 10/10\n",
      "80000/80000 [==============================] - 4s - loss: 2.8311 - acc: 0.0991 - val_loss: 3.2388 - val_acc: 0.0348\n"
     ]
    },
    {
     "data": {
      "image/png": "[encoded data removed]",
      "text/plain": [
       "<matplotlib.figure.Figure at 0x123016278>"
      ]
     },
     "metadata": {},
     "output_type": "display_data"
    }
   ],
   "source": [
    "history, model_100k = run_nn_classifier(df_100k, hidden_layers=[100,50,20])\n",
    "plot_train(history)"
   ]
  },
  {
   "cell_type": "code",
   "execution_count": 63,
   "metadata": {
    "collapsed": false
   },
   "outputs": [
    {
     "name": "stdout",
     "output_type": "stream",
     "text": [
      "********************\n",
      "[[ 50.   5.]] => sum = 55\n",
      "********************\n",
      "(50, 0.18091643)\n",
      "(48, 0.14315107)\n",
      "(51, 0.075377136)\n",
      "(53, 0.067915514)\n",
      "(49, 0.067672551)\n",
      "********************\n",
      "********************\n",
      "[[ 21.  89.]] => sum = 110\n",
      "********************\n",
      "(103, 0.20316879)\n",
      "(107, 0.14243028)\n",
      "(108, 0.13023776)\n",
      "(106, 0.11796224)\n",
      "(105, 0.087842189)\n",
      "********************\n",
      "********************\n",
      "[[ 99.   0.]] => sum = 99\n",
      "********************\n",
      "(98, 0.18384625)\n",
      "(97, 0.17027988)\n",
      "(93, 0.12014645)\n",
      "(99, 0.11389501)\n",
      "(95, 0.083519429)\n",
      "********************\n"
     ]
    }
   ],
   "source": [
    "model_100k.save('model_100k.h5')\n",
    "if False:\n",
    "    model_100k = load_model('model_100k.h5')\n",
    "\n",
    "get_top_n_predict(model_100k, np.array([[50,5]])/100, 5)\n",
    "get_top_n_predict(model_100k, np.array(X_test)[0:1]/100, 5)\n",
    "get_top_n_predict(model_100k, np.array(X_test)[10:11]/100, 5)"
   ]
  },
  {
   "cell_type": "code",
   "execution_count": 64,
   "metadata": {
    "collapsed": false
   },
   "outputs": [
    {
     "name": "stdout",
     "output_type": "stream",
     "text": [
      "_________________________________________________________________\n",
      "Layer (type)                 Output Shape              Param #   \n",
      "=================================================================\n",
      "input_4 (InputLayer)         (None, 2)                 0         \n",
      "_________________________________________________________________\n",
      "Dense_0 (Dense)              (None, 500)               1500      \n",
      "_________________________________________________________________\n",
      "Dense_1 (Dense)              (None, 400)               200400    \n",
      "_________________________________________________________________\n",
      "Dense_2 (Dense)              (None, 300)               120300    \n",
      "_________________________________________________________________\n",
      "Outputlayer (Dense)          (None, 201)               60501     \n",
      "=================================================================\n",
      "Total params: 382,701\n",
      "Trainable params: 382,701\n",
      "Non-trainable params: 0\n",
      "_________________________________________________________________\n",
      "None\n",
      "Train on 800000 samples, validate on 200000 samples\n",
      "Epoch 1/2\n",
      "800000/800000 [==============================] - 110s - loss: 3.3306 - acc: 0.0716 - val_loss: 2.3920 - val_acc: 0.1623\n",
      "Epoch 2/2\n",
      "800000/800000 [==============================] - 103s - loss: 2.3632 - acc: 0.1540 - val_loss: 1.9734 - val_acc: 0.2874\n"
     ]
    },
    {
     "data": {
      "image/png": "[encoded data removed]",
      "text/plain": [
       "<matplotlib.figure.Figure at 0x127423be0>"
      ]
     },
     "metadata": {},
     "output_type": "display_data"
    }
   ],
   "source": [
    "history, model_1m = run_nn_classifier(df_1m, hidden_layers=[500,400,300], training_epochs=2)\n",
    "plot_train(history)"
   ]
  },
  {
   "cell_type": "code",
   "execution_count": 68,
   "metadata": {
    "collapsed": false
   },
   "outputs": [
    {
     "name": "stdout",
     "output_type": "stream",
     "text": [
      "********************\n",
      "[[ 50.   5.]] => sum = 55\n",
      "********************\n",
      "(57, 0.27721187)\n",
      "(60, 0.26874447)\n",
      "(58, 0.15579568)\n",
      "(59, 0.10102533)\n",
      "(56, 0.070711583)\n",
      "********************\n",
      "********************\n",
      "[[ 21.  89.]] => sum = 110\n",
      "********************\n",
      "(110, 0.29805246)\n",
      "(112, 0.25150287)\n",
      "(108, 0.1095579)\n",
      "(109, 0.10870925)\n",
      "(111, 0.10202827)\n",
      "********************\n",
      "********************\n",
      "[[ 99.   0.]] => sum = 99\n",
      "********************\n",
      "(99, 0.26915908)\n",
      "(98, 0.22927479)\n",
      "(97, 0.20818409)\n",
      "(100, 0.10339667)\n",
      "(101, 0.093651041)\n",
      "********************\n"
     ]
    }
   ],
   "source": [
    "model_1m.save('model_1m.h5')\n",
    "if False:\n",
    "    model_1m = load_model('model_1m.h5')\n",
    "\n",
    "get_top_n_predict(model_1m, np.array([[50,5]])/100, 5)\n",
    "get_top_n_predict(model_1m, np.array(X_test)[0:1]/100, 5)\n",
    "get_top_n_predict(model_1m, np.array(X_test)[10:11]/100, 5)"
   ]
  },
  {
   "cell_type": "code",
   "execution_count": 6,
   "metadata": {
    "collapsed": false,
    "scrolled": true
   },
   "outputs": [
    {
     "name": "stdout",
     "output_type": "stream",
     "text": [
      "_________________________________________________________________\n",
      "Layer (type)                 Output Shape              Param #   \n",
      "=================================================================\n",
      "input_1 (InputLayer)         (None, 2)                 0         \n",
      "_________________________________________________________________\n",
      "Dense_0 (Dense)              (None, 542)               1626      \n",
      "_________________________________________________________________\n",
      "Dense_1 (Dense)              (None, 400)               217200    \n",
      "_________________________________________________________________\n",
      "Dense_2 (Dense)              (None, 300)               120300    \n",
      "_________________________________________________________________\n",
      "Outputlayer (Dense)          (None, 201)               60501     \n",
      "=================================================================\n",
      "Total params: 399,627\n",
      "Trainable params: 399,627\n",
      "Non-trainable params: 0\n",
      "_________________________________________________________________\n",
      "None\n",
      "Train on 800000 samples, validate on 200000 samples\n",
      "Epoch 1/50\n",
      "800000/800000 [==============================] - 103s - loss: 3.3307 - acc: 0.0715 - val_loss: 2.6374 - val_acc: 0.0721\n",
      "Epoch 2/50\n",
      "800000/800000 [==============================] - 103s - loss: 2.3449 - acc: 0.1516 - val_loss: 2.1002 - val_acc: 0.1977\n",
      "Epoch 3/50\n",
      "800000/800000 [==============================] - 103s - loss: 1.9954 - acc: 0.2290 - val_loss: 1.9891 - val_acc: 0.3137\n",
      "Epoch 4/50\n",
      "800000/800000 [==============================] - 103s - loss: 1.8051 - acc: 0.2931 - val_loss: 1.5574 - val_acc: 0.3178\n",
      "Epoch 5/50\n",
      "800000/800000 [==============================] - 102s - loss: 1.7207 - acc: 0.3407 - val_loss: 1.5853 - val_acc: 0.3496\n",
      "Epoch 6/50\n",
      "800000/800000 [==============================] - 104s - loss: 1.6836 - acc: 0.3767 - val_loss: 1.5089 - val_acc: 0.3274\n",
      "Epoch 7/50\n",
      "800000/800000 [==============================] - 108s - loss: 1.6328 - acc: 0.4121 - val_loss: 2.1501 - val_acc: 0.2030\n",
      "Epoch 8/50\n",
      "800000/800000 [==============================] - 110s - loss: 1.5918 - acc: 0.4406 - val_loss: 1.3073 - val_acc: 0.5940\n",
      "Epoch 9/50\n",
      "800000/800000 [==============================] - 109s - loss: 1.6897 - acc: 0.4566 - val_loss: 1.3177 - val_acc: 0.6240\n",
      "Epoch 10/50\n",
      "800000/800000 [==============================] - 108s - loss: 1.5807 - acc: 0.4820 - val_loss: 2.1434 - val_acc: 0.3538\n",
      "Epoch 11/50\n",
      "800000/800000 [==============================] - 100s - loss: 1.5214 - acc: 0.5104 - val_loss: 1.1496 - val_acc: 0.7284\n",
      "Epoch 12/50\n",
      "800000/800000 [==============================] - 94s - loss: 1.4768 - acc: 0.5289 - val_loss: 1.9353 - val_acc: 0.3530\n",
      "Epoch 13/50\n",
      "800000/800000 [==============================] - 93s - loss: 1.4431 - acc: 0.5492 - val_loss: 1.5707 - val_acc: 0.4518\n",
      "Epoch 14/50\n",
      "800000/800000 [==============================] - 93s - loss: 1.3933 - acc: 0.5651 - val_loss: 0.9932 - val_acc: 0.7497\n",
      "Epoch 15/50\n",
      "800000/800000 [==============================] - 93s - loss: 1.4605 - acc: 0.5771 - val_loss: 1.5252 - val_acc: 0.5462\n",
      "Epoch 16/50\n",
      "800000/800000 [==============================] - 93s - loss: 1.4057 - acc: 0.5895 - val_loss: 1.6315 - val_acc: 0.5107\n",
      "Epoch 17/50\n",
      "800000/800000 [==============================] - 94s - loss: 1.3752 - acc: 0.6013 - val_loss: 0.8872 - val_acc: 0.7666\n",
      "Epoch 18/50\n",
      "800000/800000 [==============================] - 93s - loss: 1.3439 - acc: 0.6103 - val_loss: 1.3166 - val_acc: 0.5493\n",
      "Epoch 19/50\n",
      "800000/800000 [==============================] - 94s - loss: 1.2850 - acc: 0.6221 - val_loss: 1.0506 - val_acc: 0.6274\n",
      "Epoch 20/50\n",
      "800000/800000 [==============================] - 94s - loss: 1.2577 - acc: 0.6350 - val_loss: 1.3693 - val_acc: 0.6620\n",
      "Epoch 21/50\n",
      "800000/800000 [==============================] - 94s - loss: 1.1922 - acc: 0.6445 - val_loss: 0.9483 - val_acc: 0.6754\n",
      "Epoch 22/50\n",
      "800000/800000 [==============================] - 94s - loss: 1.1212 - acc: 0.6601 - val_loss: 0.6929 - val_acc: 0.7508\n",
      "Epoch 23/50\n",
      "800000/800000 [==============================] - 94s - loss: 1.1458 - acc: 0.6693 - val_loss: 1.3328 - val_acc: 0.5724\n",
      "Epoch 24/50\n",
      "800000/800000 [==============================] - 95s - loss: 1.1472 - acc: 0.6702 - val_loss: 0.8064 - val_acc: 0.7396\n",
      "Epoch 25/50\n",
      "800000/800000 [==============================] - 94s - loss: 1.1449 - acc: 0.6809 - val_loss: 2.1334 - val_acc: 0.3347\n",
      "Epoch 26/50\n",
      "800000/800000 [==============================] - 94s - loss: 1.0581 - acc: 0.6971 - val_loss: 1.6984 - val_acc: 0.5854\n",
      "Epoch 27/50\n",
      "800000/800000 [==============================] - 94s - loss: 1.0382 - acc: 0.7068 - val_loss: 0.6368 - val_acc: 0.8475\n",
      "Epoch 28/50\n",
      "800000/800000 [==============================] - 94s - loss: 1.0230 - acc: 0.7146 - val_loss: 1.2361 - val_acc: 0.6249\n",
      "Epoch 29/50\n",
      "800000/800000 [==============================] - 94s - loss: 0.9855 - acc: 0.7296 - val_loss: 0.6020 - val_acc: 0.8194\n",
      "Epoch 30/50\n",
      "800000/800000 [==============================] - 94s - loss: 1.0245 - acc: 0.7281 - val_loss: 0.6945 - val_acc: 0.7647\n",
      "Epoch 31/50\n",
      "800000/800000 [==============================] - 95s - loss: 1.0006 - acc: 0.7326 - val_loss: 0.6009 - val_acc: 0.8499\n",
      "Epoch 32/50\n",
      "800000/800000 [==============================] - 95s - loss: 1.0365 - acc: 0.7340 - val_loss: 2.3480 - val_acc: 0.4356\n",
      "Epoch 33/50\n",
      "800000/800000 [==============================] - 94s - loss: 1.0130 - acc: 0.7368 - val_loss: 0.5440 - val_acc: 0.8601\n",
      "Epoch 34/50\n",
      "800000/800000 [==============================] - 95s - loss: 0.9805 - acc: 0.7464 - val_loss: 0.5172 - val_acc: 0.8572\n",
      "Epoch 35/50\n",
      "800000/800000 [==============================] - 95s - loss: 0.9157 - acc: 0.7573 - val_loss: 0.4599 - val_acc: 0.8883\n",
      "Epoch 36/50\n",
      "800000/800000 [==============================] - 95s - loss: 0.8941 - acc: 0.7657 - val_loss: 0.9108 - val_acc: 0.7411\n",
      "Epoch 37/50\n",
      "800000/800000 [==============================] - 95s - loss: 0.8280 - acc: 0.7809 - val_loss: 0.4213 - val_acc: 0.8752\n",
      "Epoch 38/50\n",
      "800000/800000 [==============================] - 95s - loss: 0.8550 - acc: 0.7798 - val_loss: 0.7321 - val_acc: 0.7624\n",
      "Epoch 39/50\n",
      "800000/800000 [==============================] - 95s - loss: 0.7881 - acc: 0.7962 - val_loss: 0.6621 - val_acc: 0.7736\n",
      "Epoch 40/50\n",
      "800000/800000 [==============================] - 95s - loss: 0.8220 - acc: 0.7921 - val_loss: 0.4918 - val_acc: 0.8830\n",
      "Epoch 41/50\n",
      "800000/800000 [==============================] - 95s - loss: 0.8374 - acc: 0.7948 - val_loss: 0.5411 - val_acc: 0.8857\n",
      "Epoch 42/50\n",
      "800000/800000 [==============================] - 95s - loss: 0.8156 - acc: 0.7964 - val_loss: 0.5078 - val_acc: 0.8730\n",
      "Epoch 43/50\n",
      "800000/800000 [==============================] - 95s - loss: 0.7443 - acc: 0.8164 - val_loss: 0.3566 - val_acc: 0.9056\n",
      "Epoch 44/50\n",
      "800000/800000 [==============================] - 95s - loss: 0.7329 - acc: 0.8217 - val_loss: 0.6068 - val_acc: 0.8339\n",
      "Epoch 45/50\n",
      "800000/800000 [==============================] - 95s - loss: 0.7305 - acc: 0.8244 - val_loss: 0.4343 - val_acc: 0.8989\n",
      "Epoch 46/50\n",
      "800000/800000 [==============================] - 95s - loss: 0.7327 - acc: 0.8209 - val_loss: 0.4590 - val_acc: 0.8920\n",
      "Epoch 47/50\n",
      "800000/800000 [==============================] - 95s - loss: 0.6985 - acc: 0.8281 - val_loss: 0.3592 - val_acc: 0.9029\n",
      "Epoch 48/50\n",
      "800000/800000 [==============================] - 96s - loss: 0.7517 - acc: 0.8191 - val_loss: 0.5255 - val_acc: 0.8855\n",
      "Epoch 49/50\n",
      "800000/800000 [==============================] - 96s - loss: 0.7355 - acc: 0.8320 - val_loss: 0.5613 - val_acc: 0.8702\n",
      "Epoch 50/50\n",
      "800000/800000 [==============================] - 96s - loss: 0.8061 - acc: 0.8226 - val_loss: 0.7686 - val_acc: 0.8246\n"
     ]
    },
    {
     "data": {
      "image/png": "[encoded data removed]",
      "text/plain": [
       "<matplotlib.figure.Figure at 0x1249a2390>"
      ]
     },
     "metadata": {},
     "output_type": "display_data"
    }
   ],
   "source": [
    "history, model_1m = run_nn_classifier(df_1m, hidden_layers=[542,400,300]\\\n",
    "                        , training_epochs=50, batch_size=10**2\\\n",
    "                                   , metrics_to_report=['acc'])\n",
    "plot_train(history)\n"
   ]
  },
  {
   "cell_type": "code",
   "execution_count": 8,
   "metadata": {
    "collapsed": false
   },
   "outputs": [
    {
     "name": "stdout",
     "output_type": "stream",
     "text": [
      "********************\n",
      "[[ 50.   5.]] => sum = 55\n",
      "********************\n",
      "(55, 0.94556326)\n",
      "(56, 0.038204629)\n",
      "(54, 0.016231686)\n",
      "(57, 3.8179761e-07)\n",
      "(53, 1.1342325e-07)\n",
      "********************\n",
      "********************\n",
      "[[ 24.  45.]] => sum = 69\n",
      "********************\n",
      "(69, 0.94849002)\n",
      "(70, 0.038303878)\n",
      "(68, 0.013167461)\n",
      "(71, 3.8467679e-05)\n",
      "(67, 1.4849786e-07)\n",
      "********************\n",
      "********************\n",
      "[[ 76.  50.]] => sum = 126\n",
      "********************\n",
      "(126, 0.91545528)\n",
      "(127, 0.072699934)\n",
      "(125, 0.011820316)\n",
      "(124, 2.3207645e-05)\n",
      "(128, 1.2683306e-06)\n",
      "********************\n",
      "********************\n",
      "[[ 4.  1.]] => sum = 5\n",
      "********************\n",
      "(162, 0.030777514)\n",
      "(161, 0.030513134)\n",
      "(163, 0.030214291)\n",
      "(164, 0.029854646)\n",
      "(165, 0.029050447)\n",
      "********************\n"
     ]
    }
   ],
   "source": [
    "model_1m.save('model_1m_.h5')\n",
    "if False:\n",
    "    model_1m = load_model('model_1m_.h5')\n",
    "\n",
    "get_top_n_predict(model_1m, np.array([[50,5]])/100, 5)\n",
    "get_top_n_predict(model_1m, np.array([[24,45]])/100, 5)\n",
    "get_top_n_predict(model_1m, np.array([[76,50]])/100, 5)\n",
    "get_top_n_predict(model_1m, np.array([[4,1]])/100, 5)"
   ]
  },
  {
   "cell_type": "code",
   "execution_count": 10,
   "metadata": {
    "collapsed": false
   },
   "outputs": [
    {
     "name": "stdout",
     "output_type": "stream",
     "text": [
      "_________________________________________________________________\n",
      "Layer (type)                 Output Shape              Param #   \n",
      "=================================================================\n",
      "input_3 (InputLayer)         (None, 2)                 0         \n",
      "_________________________________________________________________\n",
      "Dense_0 (Dense)              (None, 542)               1626      \n",
      "_________________________________________________________________\n",
      "Dense_1 (Dense)              (None, 400)               217200    \n",
      "_________________________________________________________________\n",
      "Dense_2 (Dense)              (None, 300)               120300    \n",
      "_________________________________________________________________\n",
      "Outputlayer (Dense)          (None, 201)               60501     \n",
      "=================================================================\n",
      "Total params: 399,627\n",
      "Trainable params: 399,627\n",
      "Non-trainable params: 0\n",
      "_________________________________________________________________\n",
      "None\n",
      "Train on 8000000 samples, validate on 2000000 samples\n",
      "Epoch 1/5\n",
      "8000000/8000000 [==============================] - 1014s - loss: 1.8808 - acc: 0.3326 - val_loss: 1.4417 - val_acc: 0.4518\n",
      "Epoch 2/5\n",
      "8000000/8000000 [==============================] - 1024s - loss: 1.2877 - acc: 0.6055 - val_loss: 1.2992 - val_acc: 0.6101\n",
      "Epoch 3/5\n",
      "8000000/8000000 [==============================] - 983s - loss: 1.0541 - acc: 0.7164 - val_loss: 0.8699 - val_acc: 0.7590\n",
      "Epoch 4/5\n",
      "8000000/8000000 [==============================] - 949s - loss: 0.8747 - acc: 0.7804 - val_loss: 0.4582 - val_acc: 0.8922\n",
      "Epoch 5/5\n",
      "8000000/8000000 [==============================] - 1001s - loss: 0.7113 - acc: 0.8295 - val_loss: 0.3478 - val_acc: 0.9184\n"
     ]
    },
    {
     "data": {
      "image/png": "[encoded data removed]",
      "text/plain": [
       "<matplotlib.figure.Figure at 0x12888b780>"
      ]
     },
     "metadata": {},
     "output_type": "display_data"
    }
   ],
   "source": [
    "history, model_10m = run_nn_classifier(df_10m, hidden_layers=[542,400,300]\\\n",
    "                        , training_epochs=5, batch_size=10**2\\\n",
    "                                   , metrics_to_report=['acc'])\n",
    "plot_train(history)"
   ]
  },
  {
   "cell_type": "code",
   "execution_count": 13,
   "metadata": {
    "collapsed": false
   },
   "outputs": [
    {
     "name": "stdout",
     "output_type": "stream",
     "text": [
      "********************\n",
      "[[ 50.   5.]] => sum = 55\n",
      "********************\n",
      "(55, 0.97664309)\n",
      "(56, 0.019973075)\n",
      "(54, 0.0033771424)\n",
      "(53, 4.5230759e-06)\n",
      "(57, 2.1832236e-06)\n",
      "********************\n",
      "********************\n",
      "[[ 24.  45.]] => sum = 69\n",
      "********************\n",
      "(69, 0.99751031)\n",
      "(70, 0.001839121)\n",
      "(68, 0.00065054646)\n",
      "(71, 2.4180422e-10)\n",
      "(67, 1.0856918e-13)\n",
      "********************\n",
      "********************\n",
      "[[ 76.  50.]] => sum = 126\n",
      "********************\n",
      "(126, 0.99065769)\n",
      "(125, 0.0048593571)\n",
      "(127, 0.0044828868)\n",
      "(124, 8.367067e-08)\n",
      "(128, 1.0364704e-09)\n",
      "********************\n",
      "********************\n",
      "[[ 4.  1.]] => sum = 5\n",
      "********************\n",
      "(20, 0.092882499)\n",
      "(15, 0.075554647)\n",
      "(19, 0.071866564)\n",
      "(16, 0.071675673)\n",
      "(17, 0.068556659)\n",
      "********************\n",
      "********************\n",
      "[[ 99.  98.]] => sum = 197\n",
      "********************\n",
      "(173, 0.03905141)\n",
      "(174, 0.038193528)\n",
      "(172, 0.037038684)\n",
      "(171, 0.03696147)\n",
      "(175, 0.036904208)\n",
      "********************\n"
     ]
    }
   ],
   "source": [
    "model_10m.save('model_10m.h5')\n",
    "if False:\n",
    "    model_10m = load_model('model_10m.h5')\n",
    "\n",
    "get_top_n_predict(model_10m, np.array([[50,5]])/100, 5)\n",
    "get_top_n_predict(model_10m, np.array([[24,45]])/100, 5)\n",
    "get_top_n_predict(model_10m, np.array([[76,50]])/100, 5)\n",
    "get_top_n_predict(model_10m, np.array([[4,1]])/100, 5)\n",
    "get_top_n_predict(model_10m, np.array([[99,98]])/100, 5)"
   ]
  },
  {
   "cell_type": "code",
   "execution_count": null,
   "metadata": {
    "collapsed": true
   },
   "outputs": [],
   "source": []
  }
 ],
 "metadata": {
  "anaconda-cloud": {},
  "kernelspec": {
   "display_name": "Python [conda env:tfkeras]",
   "language": "python",
   "name": "conda-env-tfkeras-py"
  },
  "language_info": {
   "codemirror_mode": {
    "name": "ipython",
    "version": 3
   },
   "file_extension": ".py",
   "mimetype": "text/x-python",
   "name": "python",
   "nbconvert_exporter": "python",
   "pygments_lexer": "ipython3",
   "version": "3.5.3"
  }
 },
 "nbformat": 4,
 "nbformat_minor": 1
}
