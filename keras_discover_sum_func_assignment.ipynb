{
 "cells": [
  {
   "cell_type": "markdown",
   "metadata": {},
   "source": [
    "# Assignment 1: use ANNs to discover the summation function (using classifier)"
   ]
  },
  {
   "cell_type": "code",
   "execution_count": 60,
   "metadata": {
    "collapsed": false
   },
   "outputs": [],
   "source": [
    "import pandas as pd\n",
    "import numpy as np\n",
    "import scipy as scp\n",
    "import tensorflow as tf\n",
    "import keras\n",
    "from keras.models import Model, Sequential\n",
    "from keras.layers import *\n",
    "from keras.models import load_model\n",
    "from keras.optimizers import Adam\n",
    "import keras.backend as K\n",
    "import matplotlib.pyplot as plt\n",
    "import seaborn as sns\n",
    "import nltk\n",
    "import string\n",
    "import re\n",
    "import random\n",
    "import sklearn as sk\n",
    "from sklearn.model_selection import train_test_split\n",
    "%matplotlib inline"
   ]
  },
  {
   "cell_type": "markdown",
   "metadata": {},
   "source": [
    "## construct the different datasets"
   ]
  },
  {
   "cell_type": "code",
   "execution_count": 15,
   "metadata": {
    "collapsed": false
   },
   "outputs": [],
   "source": [
    "def construct_my_dataset(size=10000, seed = 54321, remove_number=None):\n",
    "    random.seed(seed)\n",
    "    x1 = np.array([random.randint(0,100) for i in range(size)])\n",
    "    x2 = np.array([random.randint(0,100) for i in range(size)])\n",
    "    y = x1 + x2\n",
    "    df = pd.DataFrame({'x1':x1,'x2':x2,'y':y})\n",
    "    if remove_number:\n",
    "        df = df[((df.x1!=remove_number) & (df.x2!=remove_number))].copy()\n",
    "    return df\n"
   ]
  },
  {
   "cell_type": "code",
   "execution_count": 16,
   "metadata": {
    "collapsed": false
   },
   "outputs": [],
   "source": [
    "df_100k = construct_my_dataset(size=int(1e5), seed=12345)\n",
    "df_1m = construct_my_dataset(size=int(1e6), seed=54123)\n",
    "df_10m = construct_my_dataset(size=int(1e7), seed=54123)"
   ]
  },
  {
   "cell_type": "code",
   "execution_count": 17,
   "metadata": {
    "collapsed": false
   },
   "outputs": [
    {
     "name": "stdout",
     "output_type": "stream",
     "text": [
      "(100000, 3)\n",
      "(1000000, 3)\n",
      "(10000000, 3)\n"
     ]
    }
   ],
   "source": [
    "print (df_100k.shape)\n",
    "print (df_1m.shape)\n",
    "print (df_10m.shape)"
   ]
  },
  {
   "cell_type": "markdown",
   "metadata": {},
   "source": [
    "## Train the NN classifier"
   ]
  },
  {
   "cell_type": "code",
   "execution_count": 56,
   "metadata": {
    "collapsed": false
   },
   "outputs": [],
   "source": [
    "def run_nn_classifier(dataset, test_size=0.2\\\n",
    "                      , lr = 0.1, training_epochs = 10, batch_size=100 \\\n",
    "                      , hidden_layers = [4,4]\\\n",
    "                      , lossf = 'categorical_crossentropy', optimizer = 'SGD'\\\n",
    "                      , metrics_to_report = ['accuracy']\\\n",
    "                      , verbose =1\n",
    "                      , normalize = True\n",
    "                     , remove_num_from_training = None):\n",
    "    X_train, X_test, y_train, y_test = train_test_split(dataset[['x1','x2']], dataset['y'], test_size =test_size)\n",
    "    \n",
    "    # Remove certain number from the training set to make it harder\n",
    "    if remove_num_from_training:\n",
    "        ids_to_del = X_train[((X_train.x1== remove_num_from_training) + (X_train.x2==remove_num_from_training))].index.tolist()\n",
    "        print ('Number of records deleted from training set: %d' % len(ids_to_del))\n",
    "        y_train.drop(ids_to_del, inplace=True, axis=0)\n",
    "        X_train.drop(ids_to_del, inplace=True, axis=0)\n",
    "    \n",
    "    # convert class vectors to binary One Hot Encoded\n",
    "    n_classes = dataset['y'].unique().shape[0]\n",
    "    y_train = keras.utils.to_categorical(y_train, n_classes)\n",
    "    y_test = keras.utils.to_categorical(y_test, n_classes)\n",
    "    \n",
    "    # Normalize the data\n",
    "    X_train = np.array(X_train)/100\n",
    "    X_test = np.array(X_test)/100\n",
    "    # Network Parameters\n",
    "    n_input = 2\n",
    "    \n",
    "    # Build layers of NN network\n",
    "    Inp = Input(shape=(n_input,))\n",
    "    x = Inp\n",
    "    for i, hidden_layer_size in enumerate(hidden_layers):\n",
    "        x = Dense(hidden_layer_size, activation='relu', name = \"Dense_{0}\".format(i))(x)\n",
    "    #output layer specified separately    \n",
    "    output = Dense(n_classes, activation='softmax', name = \"Outputlayer\")(x)\n",
    "    model = Model(Inp, output)\n",
    "    if verbose:\n",
    "        print(model.summary())\n",
    "    \n",
    "    model.compile(loss=lossf,\n",
    "              optimizer=optimizer,\n",
    "              metrics=metrics_to_report)\n",
    "    \n",
    "    K.set_value(model.optimizer.lr, lr)\n",
    "    \n",
    "    history = model.fit(X_train, y_train,\n",
    "                    batch_size=batch_size,\n",
    "                    epochs=training_epochs,\n",
    "                    verbose=verbose, # This is for what we want it to display out as it trains \n",
    "                    validation_data=(X_test, y_test))\n",
    "    \n",
    "    return history, model\n",
    "\n",
    "def plot_train(hist):\n",
    "    h = hist.history\n",
    "    if 'acc' in h:\n",
    "        meas='acc'\n",
    "        loc='lower right'\n",
    "    else:\n",
    "        meas='loss'\n",
    "        loc='upper right'\n",
    "    plt.plot(hist.history[meas])\n",
    "    plt.plot(hist.history['val_'+meas])\n",
    "    plt.title('model '+meas)\n",
    "    plt.ylabel(meas)\n",
    "    plt.xlabel('epoch')\n",
    "    plt.legend(['train', 'validation'], loc=loc)\n",
    "\n",
    "def get_top_n_predict(mymodel, test_data, top_n = 10):\n",
    "    print ('*'*20)\n",
    "    print ('%s => sum = %d' % (str(test_data*100), test_data.sum()*100))\n",
    "    print ('*'*20)\n",
    "    res = mymodel.predict(test_data)[0]\n",
    "    zips = zip(range(0,201), res)\n",
    "    for i in sorted(zips, key=lambda x: x[1], reverse=True)[:top_n]:\n",
    "        print(i)\n",
    "    print('*'*20)"
   ]
  },
  {
   "cell_type": "code",
   "execution_count": 62,
   "metadata": {
    "collapsed": false,
    "scrolled": false
   },
   "outputs": [
    {
     "name": "stdout",
     "output_type": "stream",
     "text": [
      "_________________________________________________________________\n",
      "Layer (type)                 Output Shape              Param #   \n",
      "=================================================================\n",
      "input_3 (InputLayer)         (None, 2)                 0         \n",
      "_________________________________________________________________\n",
      "Dense_0 (Dense)              (None, 100)               300       \n",
      "_________________________________________________________________\n",
      "Dense_1 (Dense)              (None, 50)                5050      \n",
      "_________________________________________________________________\n",
      "Dense_2 (Dense)              (None, 20)                1020      \n",
      "_________________________________________________________________\n",
      "Outputlayer (Dense)          (None, 201)               4221      \n",
      "=================================================================\n",
      "Total params: 10,591\n",
      "Trainable params: 10,591\n",
      "Non-trainable params: 0\n",
      "_________________________________________________________________\n",
      "None\n",
      "Train on 80000 samples, validate on 20000 samples\n",
      "Epoch 1/10\n",
      "80000/80000 [==============================] - 4s - loss: 5.1883 - acc: 0.0084 - val_loss: 5.0075 - val_acc: 0.0128\n",
      "Epoch 2/10\n",
      "80000/80000 [==============================] - 4s - loss: 4.3614 - acc: 0.0343 - val_loss: 4.0381 - val_acc: 0.0341\n",
      "Epoch 3/10\n",
      "80000/80000 [==============================] - 4s - loss: 3.7515 - acc: 0.0464 - val_loss: 3.8249 - val_acc: 0.0145\n",
      "Epoch 4/10\n",
      "80000/80000 [==============================] - 4s - loss: 3.4574 - acc: 0.0584 - val_loss: 3.3245 - val_acc: 0.0616\n",
      "Epoch 5/10\n",
      "80000/80000 [==============================] - 4s - loss: 3.2803 - acc: 0.0681 - val_loss: 3.4669 - val_acc: 0.0340\n",
      "Epoch 6/10\n",
      "80000/80000 [==============================] - 4s - loss: 3.1959 - acc: 0.0708 - val_loss: 3.0365 - val_acc: 0.0765\n",
      "Epoch 7/10\n",
      "80000/80000 [==============================] - 4s - loss: 3.1049 - acc: 0.0767 - val_loss: 2.8702 - val_acc: 0.0805\n",
      "Epoch 8/10\n",
      "80000/80000 [==============================] - 4s - loss: 2.9963 - acc: 0.0833 - val_loss: 3.1785 - val_acc: 0.0468\n",
      "Epoch 9/10\n",
      "80000/80000 [==============================] - 4s - loss: 2.9044 - acc: 0.0917 - val_loss: 2.6709 - val_acc: 0.0937\n",
      "Epoch 10/10\n",
      "80000/80000 [==============================] - 4s - loss: 2.8311 - acc: 0.0991 - val_loss: 3.2388 - val_acc: 0.0348\n"
     ]
    },
    {
     "data": {
      "image/png": "[encoded data removed]",
      "text/plain": [
       "<matplotlib.figure.Figure at 0x123016278>"
      ]
     },
     "metadata": {},
     "output_type": "display_data"
    }
   ],
   "source": [
    "history, model_100k = run_nn_classifier(df_100k, hidden_layers=[100,50,20])\n",
    "plot_train(history)"
   ]
  },
  {
   "cell_type": "code",
   "execution_count": 63,
   "metadata": {
    "collapsed": false
   },
   "outputs": [
    {
     "name": "stdout",
     "output_type": "stream",
     "text": [
      "********************\n",
      "[[ 50.   5.]] => sum = 55\n",
      "********************\n",
      "(50, 0.18091643)\n",
      "(48, 0.14315107)\n",
      "(51, 0.075377136)\n",
      "(53, 0.067915514)\n",
      "(49, 0.067672551)\n",
      "********************\n",
      "********************\n",
      "[[ 21.  89.]] => sum = 110\n",
      "********************\n",
      "(103, 0.20316879)\n",
      "(107, 0.14243028)\n",
      "(108, 0.13023776)\n",
      "(106, 0.11796224)\n",
      "(105, 0.087842189)\n",
      "********************\n",
      "********************\n",
      "[[ 99.   0.]] => sum = 99\n",
      "********************\n",
      "(98, 0.18384625)\n",
      "(97, 0.17027988)\n",
      "(93, 0.12014645)\n",
      "(99, 0.11389501)\n",
      "(95, 0.083519429)\n",
      "********************\n"
     ]
    }
   ],
   "source": [
    "model_100k.save('model_100k.h5')\n",
    "if False:\n",
    "    model_100k = load_model('model_100k.h5')\n",
    "\n",
    "get_top_n_predict(model_100k, np.array([[50,5]])/100, 5)\n",
    "get_top_n_predict(model_100k, np.array(X_test)[0:1]/100, 5)\n",
    "get_top_n_predict(model_100k, np.array(X_test)[10:11]/100, 5)"
   ]
  },
  {
   "cell_type": "code",
   "execution_count": 64,
   "metadata": {
    "collapsed": false
   },
   "outputs": [
    {
     "name": "stdout",
     "output_type": "stream",
     "text": [
      "_________________________________________________________________\n",
      "Layer (type)                 Output Shape              Param #   \n",
      "=================================================================\n",
      "input_4 (InputLayer)         (None, 2)                 0         \n",
      "_________________________________________________________________\n",
      "Dense_0 (Dense)              (None, 500)               1500      \n",
      "_________________________________________________________________\n",
      "Dense_1 (Dense)              (None, 400)               200400    \n",
      "_________________________________________________________________\n",
      "Dense_2 (Dense)              (None, 300)               120300    \n",
      "_________________________________________________________________\n",
      "Outputlayer (Dense)          (None, 201)               60501     \n",
      "=================================================================\n",
      "Total params: 382,701\n",
      "Trainable params: 382,701\n",
      "Non-trainable params: 0\n",
      "_________________________________________________________________\n",
      "None\n",
      "Train on 800000 samples, validate on 200000 samples\n",
      "Epoch 1/2\n",
      "800000/800000 [==============================] - 110s - loss: 3.3306 - acc: 0.0716 - val_loss: 2.3920 - val_acc: 0.1623\n",
      "Epoch 2/2\n",
      "800000/800000 [==============================] - 103s - loss: 2.3632 - acc: 0.1540 - val_loss: 1.9734 - val_acc: 0.2874\n"
     ]
    },
    {
     "data": {
      "image/png": "[encoded data removed]",
      "text/plain": [
       "<matplotlib.figure.Figure at 0x127423be0>"
      ]
     },
     "metadata": {},
     "output_type": "display_data"
    }
   ],
   "source": [
    "history, model_1m = run_nn_classifier(df_1m, hidden_layers=[500,400,300], training_epochs=2)\n",
    "plot_train(history)"
   ]
  },
  {
   "cell_type": "code",
   "execution_count": 68,
   "metadata": {
    "collapsed": false
   },
   "outputs": [
    {
     "name": "stdout",
     "output_type": "stream",
     "text": [
      "********************\n",
      "[[ 50.   5.]] => sum = 55\n",
      "********************\n",
      "(57, 0.27721187)\n",
      "(60, 0.26874447)\n",
      "(58, 0.15579568)\n",
      "(59, 0.10102533)\n",
      "(56, 0.070711583)\n",
      "********************\n",
      "********************\n",
      "[[ 21.  89.]] => sum = 110\n",
      "********************\n",
      "(110, 0.29805246)\n",
      "(112, 0.25150287)\n",
      "(108, 0.1095579)\n",
      "(109, 0.10870925)\n",
      "(111, 0.10202827)\n",
      "********************\n",
      "********************\n",
      "[[ 99.   0.]] => sum = 99\n",
      "********************\n",
      "(99, 0.26915908)\n",
      "(98, 0.22927479)\n",
      "(97, 0.20818409)\n",
      "(100, 0.10339667)\n",
      "(101, 0.093651041)\n",
      "********************\n"
     ]
    }
   ],
   "source": [
    "model_1m.save('model_1m.h5')\n",
    "if False:\n",
    "    model_1m = load_model('model_1m.h5')\n",
    "\n",
    "get_top_n_predict(model_1m, np.array([[50,5]])/100, 5)\n",
    "get_top_n_predict(model_1m, np.array(X_test)[0:1]/100, 5)\n",
    "get_top_n_predict(model_1m, np.array(X_test)[10:11]/100, 5)"
   ]
  },
  {
   "cell_type": "code",
   "execution_count": 266,
   "metadata": {
    "collapsed": false
   },
   "outputs": [
    {
     "name": "stdout",
     "output_type": "stream",
     "text": [
      "_________________________________________________________________\n",
      "Layer (type)                 Output Shape              Param #   \n",
      "=================================================================\n",
      "input_26 (InputLayer)        (None, 2)                 0         \n",
      "_________________________________________________________________\n",
      "Dense_0 (Dense)              (None, 542)               1626      \n",
      "_________________________________________________________________\n",
      "Dense_1 (Dense)              (None, 400)               217200    \n",
      "_________________________________________________________________\n",
      "Dense_2 (Dense)              (None, 300)               120300    \n",
      "_________________________________________________________________\n",
      "Outputlayer (Dense)          (None, 201)               60501     \n",
      "=================================================================\n",
      "Total params: 399,627\n",
      "Trainable params: 399,627\n",
      "Non-trainable params: 0\n",
      "_________________________________________________________________\n",
      "None\n",
      "Train on 784207 samples, validate on 196052 samples\n",
      "Epoch 1/50\n",
      "784207/784207 [==============================] - 105s - loss: 3.3382 - acc: 0.0704 - val_loss: 4.1831 - val_acc: 0.0925\n",
      "Epoch 2/50\n",
      "784207/784207 [==============================] - 101s - loss: 2.3535 - acc: 0.1537 - val_loss: 2.9891 - val_acc: 0.1967\n",
      "Epoch 3/50\n",
      "784207/784207 [==============================] - 101s - loss: 1.9985 - acc: 0.2289 - val_loss: 3.2924 - val_acc: 0.2562\n",
      "Epoch 4/50\n",
      "784207/784207 [==============================] - 103s - loss: 1.8015 - acc: 0.2899 - val_loss: 2.8551 - val_acc: 0.1822\n",
      "Epoch 5/50\n",
      "784207/784207 [==============================] - 104s - loss: 1.7016 - acc: 0.3354 - val_loss: 3.7666 - val_acc: 0.1370\n",
      "Epoch 6/50\n",
      "784207/784207 [==============================] - 103s - loss: 1.6487 - acc: 0.3762 - val_loss: 1.8739 - val_acc: 0.4220\n",
      "Epoch 7/50\n",
      "784207/784207 [==============================] - 104s - loss: 1.6780 - acc: 0.4046 - val_loss: 1.9098 - val_acc: 0.4515\n",
      "Epoch 8/50\n",
      "784207/784207 [==============================] - 104s - loss: 1.5973 - acc: 0.4380 - val_loss: 2.3527 - val_acc: 0.3473\n",
      "Epoch 9/50\n",
      "784207/784207 [==============================] - 102s - loss: 1.6336 - acc: 0.4580 - val_loss: 3.1920 - val_acc: 0.3778\n",
      "Epoch 10/50\n",
      "784207/784207 [==============================] - 94s - loss: 1.6260 - acc: 0.4764 - val_loss: 2.1059 - val_acc: 0.5520\n",
      "Epoch 11/50\n",
      "784207/784207 [==============================] - 94s - loss: 1.5791 - acc: 0.5025 - val_loss: 1.3848 - val_acc: 0.6751\n",
      "Epoch 12/50\n",
      "784207/784207 [==============================] - 94s - loss: 1.5435 - acc: 0.5256 - val_loss: 1.7811 - val_acc: 0.5509\n",
      "Epoch 13/50\n",
      "784207/784207 [==============================] - 94s - loss: 1.4631 - acc: 0.5486 - val_loss: 1.1566 - val_acc: 0.6416\n",
      "Epoch 14/50\n",
      "784207/784207 [==============================] - 94s - loss: 1.4422 - acc: 0.5598 - val_loss: 1.6788 - val_acc: 0.6048\n",
      "Epoch 15/50\n",
      "784207/784207 [==============================] - 94s - loss: 1.4566 - acc: 0.5755 - val_loss: 2.6501 - val_acc: 0.5136\n",
      "Epoch 16/50\n",
      "784207/784207 [==============================] - 94s - loss: 1.3929 - acc: 0.5946 - val_loss: 2.1047 - val_acc: 0.5052\n",
      "Epoch 17/50\n",
      "784207/784207 [==============================] - 94s - loss: 1.3631 - acc: 0.6080 - val_loss: 1.3903 - val_acc: 0.5636\n",
      "Epoch 18/50\n",
      "784207/784207 [==============================] - 94s - loss: 1.3138 - acc: 0.6179 - val_loss: 1.7564 - val_acc: 0.6332\n",
      "Epoch 19/50\n",
      "784207/784207 [==============================] - 96s - loss: 1.2879 - acc: 0.6270 - val_loss: 1.1037 - val_acc: 0.7128\n",
      "Epoch 20/50\n",
      "784207/784207 [==============================] - 94s - loss: 1.2856 - acc: 0.6402 - val_loss: 1.7767 - val_acc: 0.5607\n",
      "Epoch 21/50\n",
      "784207/784207 [==============================] - 94s - loss: 1.2428 - acc: 0.6497 - val_loss: 2.6385 - val_acc: 0.5435\n",
      "Epoch 22/50\n",
      "784207/784207 [==============================] - 94s - loss: 1.2302 - acc: 0.6607 - val_loss: 2.3004 - val_acc: 0.4749\n",
      "Epoch 23/50\n",
      "784207/784207 [==============================] - 94s - loss: 1.2621 - acc: 0.6639 - val_loss: 4.2423 - val_acc: 0.4145\n",
      "Epoch 24/50\n",
      "784207/784207 [==============================] - 95s - loss: 1.2158 - acc: 0.6757 - val_loss: 1.8487 - val_acc: 0.4433\n",
      "Epoch 25/50\n",
      "784207/784207 [==============================] - 94s - loss: 1.1624 - acc: 0.6868 - val_loss: 0.7003 - val_acc: 0.8177\n",
      "Epoch 26/50\n",
      "784207/784207 [==============================] - 95s - loss: 1.1450 - acc: 0.6916 - val_loss: 1.8848 - val_acc: 0.7042\n",
      "Epoch 27/50\n",
      "784207/784207 [==============================] - 94s - loss: 1.1381 - acc: 0.7013 - val_loss: 1.5607 - val_acc: 0.5779\n",
      "Epoch 28/50\n",
      "784207/784207 [==============================] - 94s - loss: 1.1744 - acc: 0.6935 - val_loss: 3.2754 - val_acc: 0.4590\n",
      "Epoch 29/50\n",
      "784207/784207 [==============================] - 95s - loss: 1.0951 - acc: 0.7106 - val_loss: 3.4436 - val_acc: 0.3822\n",
      "Epoch 30/50\n",
      "784207/784207 [==============================] - 95s - loss: 1.1064 - acc: 0.7147 - val_loss: 1.0016 - val_acc: 0.7707\n",
      "Epoch 31/50\n",
      "784207/784207 [==============================] - 95s - loss: 1.0600 - acc: 0.7275 - val_loss: 4.4222 - val_acc: 0.2769\n",
      "Epoch 32/50\n",
      "784207/784207 [==============================] - 95s - loss: 1.1008 - acc: 0.7240 - val_loss: 6.2921 - val_acc: 0.2470\n",
      "Epoch 33/50\n",
      "784207/784207 [==============================] - 95s - loss: 1.4358 - acc: 0.7038 - val_loss: 0.8152 - val_acc: 0.7910\n",
      "Epoch 34/50\n",
      "784207/784207 [==============================] - 95s - loss: 1.0955 - acc: 0.7200 - val_loss: 1.0813 - val_acc: 0.6740\n",
      "Epoch 35/50\n",
      "784207/784207 [==============================] - 95s - loss: 0.9538 - acc: 0.7459 - val_loss: 2.3230 - val_acc: 0.5394\n",
      "Epoch 36/50\n",
      "784207/784207 [==============================] - 95s - loss: 0.9823 - acc: 0.7426 - val_loss: 2.3239 - val_acc: 0.6502\n",
      "Epoch 37/50\n",
      "784207/784207 [==============================] - 95s - loss: 0.9480 - acc: 0.7514 - val_loss: 1.6575 - val_acc: 0.7219\n",
      "Epoch 38/50\n",
      "784207/784207 [==============================] - 95s - loss: 0.9375 - acc: 0.7561 - val_loss: 1.1857 - val_acc: 0.7295\n",
      "Epoch 39/50\n",
      "784207/784207 [==============================] - 95s - loss: 0.8958 - acc: 0.7652 - val_loss: 1.9801 - val_acc: 0.7460\n",
      "Epoch 40/50\n",
      "784207/784207 [==============================] - 95s - loss: 0.8875 - acc: 0.7719 - val_loss: 1.4609 - val_acc: 0.7966\n",
      "Epoch 41/50\n",
      "784207/784207 [==============================] - 95s - loss: 0.8836 - acc: 0.7762 - val_loss: 0.9712 - val_acc: 0.7977\n",
      "Epoch 42/50\n",
      "784207/784207 [==============================] - 95s - loss: 0.9311 - acc: 0.7778 - val_loss: 0.6199 - val_acc: 0.8275\n",
      "Epoch 43/50\n",
      "784207/784207 [==============================] - 95s - loss: 0.8612 - acc: 0.7937 - val_loss: 0.5055 - val_acc: 0.8687\n",
      "Epoch 44/50\n",
      "784207/784207 [==============================] - 95s - loss: 0.8731 - acc: 0.7945 - val_loss: 0.6062 - val_acc: 0.8387\n",
      "Epoch 45/50\n",
      "784207/784207 [==============================] - 95s - loss: 0.8511 - acc: 0.7905 - val_loss: 1.6697 - val_acc: 0.6086\n",
      "Epoch 46/50\n",
      "784207/784207 [==============================] - 96s - loss: 0.8212 - acc: 0.7917 - val_loss: 0.6242 - val_acc: 0.8451\n",
      "Epoch 47/50\n",
      "784207/784207 [==============================] - 95s - loss: 0.7853 - acc: 0.7997 - val_loss: 0.4438 - val_acc: 0.8859\n",
      "Epoch 48/50\n",
      "784207/784207 [==============================] - 96s - loss: 0.7543 - acc: 0.8065 - val_loss: 0.4959 - val_acc: 0.8452\n",
      "Epoch 49/50\n",
      "784207/784207 [==============================] - 96s - loss: 0.7932 - acc: 0.8001 - val_loss: 1.3480 - val_acc: 0.8116\n",
      "Epoch 50/50\n",
      "784207/784207 [==============================] - 96s - loss: 0.8341 - acc: 0.7935 - val_loss: 0.4786 - val_acc: 0.8715\n",
      "********************\n",
      "[[ 50.   5.]] => sum = 55\n",
      "********************\n",
      "(55, 0.9279874)\n",
      "(56, 0.030968625)\n",
      "(54, 0.030854482)\n",
      "(53, 0.010174515)\n",
      "(57, 9.3748858e-06)\n",
      "********************\n",
      "********************\n",
      "[[ 24.  45.]] => sum = 69\n",
      "********************\n",
      "(69, 0.97931826)\n",
      "(68, 0.01122857)\n",
      "(70, 0.0094532399)\n",
      "(67, 2.3603466e-08)\n",
      "(71, 1.8698822e-08)\n",
      "********************\n",
      "********************\n",
      "[[ 76.  50.]] => sum = 126\n",
      "********************\n",
      "(126, 0.98427284)\n",
      "(125, 0.011449681)\n",
      "(127, 0.0042206906)\n",
      "(124, 5.6833258e-05)\n",
      "(128, 4.839031e-09)\n",
      "********************\n",
      "********************\n",
      "[[ 4.  1.]] => sum = 5\n",
      "********************\n",
      "(35, 0.043959502)\n",
      "(34, 0.043947283)\n",
      "(36, 0.042326108)\n",
      "(33, 0.04151899)\n",
      "(32, 0.041432343)\n",
      "********************\n"
     ]
    },
    {
     "data": {
      "image/png": "[encoded data removed]",
      "text/plain": [
       "<matplotlib.figure.Figure at 0x1371ebd30>"
      ]
     },
     "metadata": {},
     "output_type": "display_data"
    }
   ],
   "source": [
    "history, model_1m = run_nn_classifier(df_1m, hidden_layers=[542,400,300]\\\n",
    "                        , training_epochs=50, batch_size=10**2\\\n",
    "                                   , metrics_to_report=['acc'])\n",
    "plot_train(history)\n"
   ]
  },
  {
   "cell_type": "code",
   "execution_count": 65,
   "metadata": {
    "collapsed": false
   },
   "outputs": [
    {
     "ename": "NameError",
     "evalue": "name 'model_10m' is not defined",
     "output_type": "error",
     "traceback": [
      "\u001b[0;31m---------------------------------------------------------------------------\u001b[0m",
      "\u001b[0;31mNameError\u001b[0m                                 Traceback (most recent call last)",
      "\u001b[0;32m<ipython-input-65-1203dd49c09e>\u001b[0m in \u001b[0;36m<module>\u001b[0;34m()\u001b[0m\n\u001b[0;32m----> 1\u001b[0;31m \u001b[0mmodel_10m\u001b[0m\u001b[0;34m.\u001b[0m\u001b[0msave\u001b[0m\u001b[0;34m(\u001b[0m\u001b[0;34m'model_10m.h5'\u001b[0m\u001b[0;34m)\u001b[0m\u001b[0;34m\u001b[0m\u001b[0m\n\u001b[0m\u001b[1;32m      2\u001b[0m \u001b[0;32mif\u001b[0m \u001b[0;32mFalse\u001b[0m\u001b[0;34m:\u001b[0m\u001b[0;34m\u001b[0m\u001b[0m\n\u001b[1;32m      3\u001b[0m     \u001b[0mmodel_10m\u001b[0m \u001b[0;34m=\u001b[0m \u001b[0mload_model\u001b[0m\u001b[0;34m(\u001b[0m\u001b[0;34m'model_10m.h5'\u001b[0m\u001b[0;34m)\u001b[0m\u001b[0;34m\u001b[0m\u001b[0m\n\u001b[1;32m      4\u001b[0m \u001b[0;34m\u001b[0m\u001b[0m\n\u001b[1;32m      5\u001b[0m \u001b[0mget_top_n_predict\u001b[0m\u001b[0;34m(\u001b[0m\u001b[0mmodel_1m_hinge\u001b[0m\u001b[0;34m,\u001b[0m \u001b[0mnp\u001b[0m\u001b[0;34m.\u001b[0m\u001b[0marray\u001b[0m\u001b[0;34m(\u001b[0m\u001b[0;34m[\u001b[0m\u001b[0;34m[\u001b[0m\u001b[0;36m50\u001b[0m\u001b[0;34m,\u001b[0m\u001b[0;36m5\u001b[0m\u001b[0;34m]\u001b[0m\u001b[0;34m]\u001b[0m\u001b[0;34m)\u001b[0m\u001b[0;34m/\u001b[0m\u001b[0;36m100\u001b[0m\u001b[0;34m,\u001b[0m \u001b[0;36m5\u001b[0m\u001b[0;34m)\u001b[0m\u001b[0;34m\u001b[0m\u001b[0m\n",
      "\u001b[0;31mNameError\u001b[0m: name 'model_10m' is not defined"
     ]
    }
   ],
   "source": [
    "model_10m.save('model_10m.h5')\n",
    "if False:\n",
    "    model_10m = load_model('model_10m.h5')\n",
    "\n",
    "get_top_n_predict(model_1m_hinge, np.array([[50,5]])/100, 5)\n",
    "get_top_n_predict(model_1m_hinge, np.array([[24,45]])/100, 5)\n",
    "get_top_n_predict(model_1m_hinge, np.array([[76,50]])/100, 5)\n",
    "get_top_n_predict(model_1m_hinge, np.array([[4,1]])/100, 5)"
   ]
  },
  {
   "cell_type": "code",
   "execution_count": null,
   "metadata": {
    "collapsed": true
   },
   "outputs": [],
   "source": []
  }
 ],
 "metadata": {
  "anaconda-cloud": {},
  "kernelspec": {
   "display_name": "Python [conda env:tfkeras]",
   "language": "python",
   "name": "conda-env-tfkeras-py"
  },
  "language_info": {
   "codemirror_mode": {
    "name": "ipython",
    "version": 3
   },
   "file_extension": ".py",
   "mimetype": "text/x-python",
   "name": "python",
   "nbconvert_exporter": "python",
   "pygments_lexer": "ipython3",
   "version": "3.5.3"
  }
 },
 "nbformat": 4,
 "nbformat_minor": 1
}
